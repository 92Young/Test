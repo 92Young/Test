{
   "cells":
	[
		{
   			"cell_type": "markdown",
   			"metadata": {},
   			"source":
   			[
   			 "### Sigmoid 함수를 가설로 선언합니다\n",
   			 "* Sigmoid는 아래 그래프와 같이 0과 1의 값만을 리턴합니다 tf.sigmoid(tf.matmul(X, W) + b)와 같습니다\n",
   			 "\n",
   			 "$$\n",
   			 "\\begin{align}\n",
   			 "sigmoid(x) & = \\frac{1}{1+e^{-x}}  \\\\\\\\\\\n",
   			 "\\end{align}\n",
   			 "$$\n",
   			 "\n",
   			 "$$c = \\sqrt{a^2 + b^2}$$",
   			 "![sigmoid](https://upload.wikimedia.org/wikipedia/commons/8/88/Logistic-curve.svg)"
   			]
		}
	],
	"metadata": {
  "kernelspec": {
   "display_name": "conda_tensorflow_p36",
   "language": "python",
   "name": "conda_tensorflow_p36"
  },
  "language_info": {
   "codemirror_mode": {
    "name": "ipython",
    "version": 3
   },
   "file_extension": ".py",
   "mimetype": "text/x-python",
   "name": "python",
   "nbconvert_exporter": "python",
   "pygments_lexer": "ipython3",
   "version": "3.6.5"
  }
 },
 "nbformat": 4,
 "nbformat_minor": 2
}
