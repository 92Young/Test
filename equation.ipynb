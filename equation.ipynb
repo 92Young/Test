\begin{equation}
A_N=(1+fg)^W(1+fl)^LA_0
\end{equation}

